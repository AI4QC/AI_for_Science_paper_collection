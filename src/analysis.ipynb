{
 "cells": [
  {
   "cell_type": "code",
   "execution_count": null,
   "id": "cfa2d0e2",
   "metadata": {},
   "outputs": [
    {
     "ename": "",
     "evalue": "",
     "output_type": "error",
     "traceback": [
      "\u001b[1;31mRunning cells with 'Python 3.13.1' requires the ipykernel package.\n",
      "\u001b[1;31m<a href='command:jupyter.createPythonEnvAndSelectController'>Create a Python Environment</a> with the required packages."
     ]
    }
   ],
   "source": [
    "import numpy as np\n",
    "import matplotlib.pyplot as plt\n",
    "import seaborn as sns\n",
    "import pandas as pd\n",
    "import os"
   ]
  },
  {
   "cell_type": "code",
   "execution_count": null,
   "id": "961400c9",
   "metadata": {},
   "outputs": [],
   "source": [
    "venues = ['icml', 'neurips','iclr']\n",
    "years = [2020, 2021, 2022, 2023, 2024,2025]\n",
    "\n",
    "ai4s_paper_count = {'icml': {2020: 1087, 2021: 1189, 2022:1237, 2023:1908, 2024:2640,2025:3339},\n",
    "                    'neurips': {2020: 1909, 2021: 2342, 2022: 2911, 2023: 3584,2024:4538},\n",
    "                    'iclr':{2020:695, 2021: 868, 2022: 1103, 2023: 1590,2024:2321,2025:3827}, \n",
    "                    'icml_ratio': dict.fromkeys(years),\n",
    "                    'neurips_ratio': dict.fromkeys(years),\n",
    "                    'iclr_ratio':dict.fromkeys(years)\n",
    "                    }\n",
    "keys = []\n",
    "for i in venues:\n",
    "    csvs = [os.path.join(f'../{i}',j) for j in os.listdir(f'../{i}')]\n",
    "    keys.extend(csvs)\n",
    "    data = np.array([[int(d.split('_')[-1].split('.')[0]),len(pd.read_csv(d,dtype=str))] for d in csvs]) \n",
    "    for j in range(data.shape[0]):\n",
    "        ai4s_paper_count[i][data[j,0]] = [ai4s_paper_count[i][data[j,0]], data[j,1]] \n",
    "        ai4s_paper_count[f'{i}_ratio'][data[j,0]]=data[j,1]/data[j,0]\n",
    "keys = np.array(keys)\n",
    "\n",
    "ai4s_paper_count = pd.DataFrame(ai4s_paper_count)"
   ]
  },
  {
   "cell_type": "code",
   "execution_count": null,
   "id": "927bc898",
   "metadata": {},
   "outputs": [],
   "source": [
    "plt.plot(ai4s_paper_count.index, ai4s_paper_count['icml_ratio'], marker='o', label='ICML')\n",
    "plt.plot(ai4s_paper_count.index, ai4s_paper_count['neurips_ratio'], marker='o', label='Neurips')\n",
    "plt.plot(ai4s_paper_count.index, ai4s_paper_count['iclr_ratio'], marker='o', label='ICLR')\n",
    "plt.xlabel('Year', fontsize=12)\n",
    "plt.ylabel('Ratio', fontsize=12)\n",
    "plt.xticks(years, years)\n",
    "plt.legend(labelspacing = 0.2,frameon=False, fontsize=11.5)\n",
    "plt.savefig('ai4s_paper_ratio.png', dpi=200, bbox_inches='tight')\n",
    "plt.show()"
   ]
  },
  {
   "cell_type": "code",
   "execution_count": null,
   "id": "0caec680",
   "metadata": {},
   "outputs": [],
   "source": [
    "applications = {}\n",
    "for i in years:\n",
    "    csv_files = keys[[int(k.split('_')[-1].split('.')[0]) == i for k in keys]]\n",
    "    for j in csv_files:\n",
    "        data = pd.read_csv(j,dtype=str)\n",
    "        appl, count = np.unique(np.array(data['Application']), return_counts=True)\n",
    "        for k in range(len(appl)):\n",
    "            if appl[k] not in applications.keys():\n",
    "                applications[appl[k]] = np.zeros(len(years))\n",
    "            applications[appl[k]][i-2020] = count[k]   \n",
    "applications = pd.DataFrame(applications, index=years)\n",
    "include_applications = applications[applications.columns[applications.sum() > 10]]\n",
    "figure = plt.figure(figsize=(10, 4))\n",
    "sns.lineplot(data=include_applications, palette=\"tab10\", linewidth=2.5)\n",
    "plt.xlabel('Year', fontsize=12)\n",
    "plt.ylabel('Counts', fontsize=12)\n",
    "plt.xticks(years, years)\n",
    "plt.legend(labelspacing = 0.2,frameon=False, fontsize=11.5)\n",
    "plt.savefig('conference_application_year.png', dpi=200, bbox_inches='tight')\n",
    "plt.show()"
   ]
  },
  {
   "cell_type": "code",
   "execution_count": null,
   "id": "9b971847",
   "metadata": {},
   "outputs": [],
   "source": []
  }
 ],
 "metadata": {
  "kernelspec": {
   "display_name": "Python 3",
   "language": "python",
   "name": "python3"
  },
  "language_info": {
   "codemirror_mode": {
    "name": "ipython",
    "version": 3
   },
   "file_extension": ".py",
   "mimetype": "text/x-python",
   "name": "python",
   "nbconvert_exporter": "python",
   "pygments_lexer": "ipython3",
   "version": "3.13.1"
  }
 },
 "nbformat": 4,
 "nbformat_minor": 5
}
